{
 "cells": [
  {
   "cell_type": "markdown",
   "id": "dd533697",
   "metadata": {},
   "source": [
    "# How to use SHERPA simulation code #"
   ]
  },
  {
   "cell_type": "markdown",
   "id": "d565d99c",
   "metadata": {},
   "source": [
    "At first you need to create a python environment, to be able to run the code.\n",
    "\n",
    "Then, the steps to run the code are:\n",
    "- load required libraries\n",
    "- load basecase emissions and concentrations\n",
    "- load the source-receptor model to be used\n",
    "- define reduction areas and percentage of reductions by sector-pollutant\n",
    "- define output directory\n",
    "- run the model and inspect results\n",
    "\n",
    "The example below works for PM2.5 yearly averages, and only for module 1.\n",
    "\n",
    "The same can be done for yearly averages of PM10, NO2, NO, O3, and for other modules.\n",
    "\n",
    "All final concentrations are in microg/m3, but O3 that is in ppb."
   ]
  },
  {
   "cell_type": "markdown",
   "id": "03e8effa",
   "metadata": {},
   "source": [
    "### Set-up of the python environment\n",
    "\n",
    "Install a package manager, as i.e. from https://docs.conda.io/en/latest/miniconda.html\n",
    "\n",
    "In your windows shell, run the following command (to create a python environment, using the packages as in 'environment.yml')  \n",
    "*conda env create --prefix C:\\PATH_ANACONDA\\envs\\py310-sherpa -f environment.yml*\n",
    "\n",
    "In your windows shell, activate the environment  \n",
    "*conda activate py310-sherpa*"
   ]
  },
  {
   "cell_type": "markdown",
   "id": "4c178437",
   "metadata": {},
   "source": [
    "### Run module 1\n",
    "After setting up the environment, you can then run module 1 through the following steps (please note that here below we included some additional python commands, mainly useful to show the content of the different input data required by module 1)."
   ]
  },
  {
   "cell_type": "code",
   "execution_count": null,
   "id": "92b568b0",
   "metadata": {
    "scrolled": true,
    "tags": []
   },
   "outputs": [],
   "source": [
    "#import required libraries\n",
    "import xarray as xr\n",
    "import pandas as pd\n",
    "import os\n",
    "import matplotlib.pyplot as plt\n",
    "from module1 import module1"
   ]
  },
  {
   "cell_type": "code",
   "execution_count": null,
   "id": "be84a2ee",
   "metadata": {
    "scrolled": true,
    "tags": []
   },
   "outputs": [],
   "source": [
    "#load basecase emissions \n",
    "path_emission_cdf_test = './input/BC_emiss/yea/emep45_cams80_SecEmis.nc'\n",
    "emis = xr.open_dataset(path_emission_cdf_test)\n",
    "emis"
   ]
  },
  {
   "cell_type": "code",
   "execution_count": null,
   "id": "3ee6c2e0",
   "metadata": {
    "scrolled": true
   },
   "outputs": [],
   "source": [
    "#load basecase concentrations\n",
    "path_base_conc_cdf_test = './input/BC_concs/yea/BCconc_emepV45_cams80_SURF_ug_PM25_rh50.nc'\n",
    "conc = xr.open_dataset(path_base_conc_cdf_test)\n",
    "conc"
   ]
  },
  {
   "cell_type": "code",
   "execution_count": null,
   "id": "10e5bc5c",
   "metadata": {
    "scrolled": true
   },
   "outputs": [],
   "source": [
    "#load the SRR model\n",
    "path_model_cdf_test = './input/SRR/yea/SR_SURF_ug_PM25_rh50.nc' \n",
    "srr = xr.open_dataset(path_model_cdf_test)\n",
    "srr"
   ]
  },
  {
   "cell_type": "code",
   "execution_count": null,
   "id": "ab4ef827",
   "metadata": {
    "scrolled": true
   },
   "outputs": [],
   "source": [
    "#define reduction area\n",
    "path_area_cdf_test = './input/reduction_areas/emiRedOn_emep45_cams80_Germany.nc'#London_emepCams_0_100_FLIP.nc'\n",
    "area = xr.open_dataset(path_area_cdf_test)\n",
    "area"
   ]
  },
  {
   "cell_type": "code",
   "execution_count": null,
   "id": "a05e18d9",
   "metadata": {
    "scrolled": true
   },
   "outputs": [],
   "source": [
    "#show selected area\n",
    "area['AREA'].plot()"
   ]
  },
  {
   "cell_type": "code",
   "execution_count": null,
   "id": "dc1ed30a",
   "metadata": {
    "scrolled": true
   },
   "outputs": [],
   "source": [
    "#define percentage reductions\n",
    "path_reduction_txt_test = './input/reduction_perc/user_reduction_GNFR_all_PPM25.txt'#user_reduction_GNFR_all.txt'\n",
    "pd.read_csv(path_reduction_txt_test, sep='\\t')"
   ]
  },
  {
   "cell_type": "code",
   "execution_count": null,
   "id": "b7baa18d",
   "metadata": {
    "scrolled": true
   },
   "outputs": [],
   "source": [
    "#define output area and downscaling (not implemented now)\n",
    "path_result_cdf_test = './output/'\n",
    "downscale_request = 0 # 0 if you do not need downscale, 1 if you need downscale but only for PM concentrations"
   ]
  },
  {
   "cell_type": "code",
   "execution_count": null,
   "id": "ab856a24",
   "metadata": {
    "scrolled": true
   },
   "outputs": [],
   "source": [
    "#run the model and inspect the results - running time around 1 minute\n",
    "res = module1(path_emission_cdf_test, path_area_cdf_test, path_reduction_txt_test, path_base_conc_cdf_test, path_model_cdf_test, path_result_cdf_test,\n",
    "                downscale_request)\n"
   ]
  },
  {
   "cell_type": "code",
   "execution_count": null,
   "id": "9d6073d4",
   "metadata": {
    "scrolled": true
   },
   "outputs": [],
   "source": [
    "#inspect results, in output file\n",
    "os.listdir('output')"
   ]
  },
  {
   "cell_type": "code",
   "execution_count": null,
   "id": "e442cfbb",
   "metadata": {
    "scrolled": true
   },
   "outputs": [],
   "source": [
    "#show content of result file\n",
    "pm25_delta_conc = xr.open_dataset('output/DCconc_emepV434_camsV42_SURF_ug_PM25_rh50.nc')\n",
    "pm25_delta_conc"
   ]
  },
  {
   "cell_type": "code",
   "execution_count": null,
   "id": "7248914d",
   "metadata": {
    "scrolled": true
   },
   "outputs": [],
   "source": [
    "#show delta concentrations\n",
    "pm25_delta_conc['delta_conc'].plot()\n"
   ]
  }
 ],
 "metadata": {
  "kernelspec": {
   "display_name": "Python 3 (ipykernel)",
   "language": "python",
   "name": "python3"
  },
  "language_info": {
   "codemirror_mode": {
    "name": "ipython",
    "version": 3
   },
   "file_extension": ".py",
   "mimetype": "text/x-python",
   "name": "python",
   "nbconvert_exporter": "python",
   "pygments_lexer": "ipython3",
   "version": "3.8.12"
  }
 },
 "nbformat": 4,
 "nbformat_minor": 5
}
